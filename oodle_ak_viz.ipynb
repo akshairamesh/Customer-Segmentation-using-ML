{
 "cells": [
  {
   "cell_type": "markdown",
   "metadata": {},
   "source": [
    "# Customer Segmentation Dataset\n",
    "**Project : Creating Customer Segments - Unsupervised Learning**\n",
    "\n",
    "**The Challenge**\n",
    "\n",
    "Given the dataset related to xyz - Car Finance Company, we have some basic data about the customers like Customer ID, age, loan amount, deposit, car type, area, application status and funding status. We want to identify and understand the target customers so that this information can be given to marketing team and create a beneficial strategic plan.\n",
    "\n",
    "**Background Work**\n",
    "\n",
    "It is very essential to have a good understanding about the domain that the company works on. So, here are few of the useful informations that I noted : \n",
    "1. The Annual Percentage Rate(APR) is given based on the Credit Score(CR), the better the CR score, lesser the APR.\n",
    "2. The Finance company makes the profit only when a customer uses the funded provided to him/her and pays back the interest. So, its important to concentrate on conversion rate of approved customers to funded.\n",
    "\n",
    "**Table of Contents**\n",
    "1. Data Preprocessing\n",
    "2. Exploratory Data Analysis\n",
    "3. Principal Component Analysis\n",
    "4. K-Means Clustering to group the customers\n",
    "5. Marketing Strategy "
   ]
  },
  {
   "cell_type": "code",
   "execution_count": 2,
   "metadata": {},
   "outputs": [
    {
     "data": {
      "text/html": [
       "<div>\n",
       "<style scoped>\n",
       "    .dataframe tbody tr th:only-of-type {\n",
       "        vertical-align: middle;\n",
       "    }\n",
       "\n",
       "    .dataframe tbody tr th {\n",
       "        vertical-align: top;\n",
       "    }\n",
       "\n",
       "    .dataframe thead th {\n",
       "        text-align: right;\n",
       "    }\n",
       "</style>\n",
       "<table border=\"1\" class=\"dataframe\">\n",
       "  <thead>\n",
       "    <tr style=\"text-align: right;\">\n",
       "      <th></th>\n",
       "      <th>ID</th>\n",
       "      <th>age</th>\n",
       "      <th>car_type</th>\n",
       "      <th>Loanamount</th>\n",
       "      <th>Deposit</th>\n",
       "      <th>area</th>\n",
       "      <th>APR</th>\n",
       "      <th>application_outcome</th>\n",
       "      <th>Funded</th>\n",
       "      <th>Unnamed: 9</th>\n",
       "      <th>Unnamed: 10</th>\n",
       "      <th>Unnamed: 11</th>\n",
       "      <th>Unnamed: 12</th>\n",
       "      <th>Unnamed: 13</th>\n",
       "    </tr>\n",
       "  </thead>\n",
       "  <tbody>\n",
       "    <tr>\n",
       "      <th>0</th>\n",
       "      <td>9997</td>\n",
       "      <td>61</td>\n",
       "      <td>Convertible</td>\n",
       "      <td>£24,108.00</td>\n",
       "      <td>£881.00</td>\n",
       "      <td>rural</td>\n",
       "      <td>0.15</td>\n",
       "      <td>approved</td>\n",
       "      <td>No</td>\n",
       "      <td>NaN</td>\n",
       "      <td>NaN</td>\n",
       "      <td>NaN</td>\n",
       "      <td>NaN</td>\n",
       "      <td>NaN</td>\n",
       "    </tr>\n",
       "    <tr>\n",
       "      <th>1</th>\n",
       "      <td>9996</td>\n",
       "      <td>42</td>\n",
       "      <td>Saloon</td>\n",
       "      <td>£5,988.00</td>\n",
       "      <td>£967.00</td>\n",
       "      <td>rural</td>\n",
       "      <td>0.20</td>\n",
       "      <td>approved</td>\n",
       "      <td>No</td>\n",
       "      <td>NaN</td>\n",
       "      <td>NaN</td>\n",
       "      <td>NaN</td>\n",
       "      <td>NaN</td>\n",
       "      <td>NaN</td>\n",
       "    </tr>\n",
       "    <tr>\n",
       "      <th>2</th>\n",
       "      <td>9995</td>\n",
       "      <td>57</td>\n",
       "      <td>Saloon</td>\n",
       "      <td>£5,099.00</td>\n",
       "      <td>£973.00</td>\n",
       "      <td>urban</td>\n",
       "      <td>0.15</td>\n",
       "      <td>approved</td>\n",
       "      <td>No</td>\n",
       "      <td>NaN</td>\n",
       "      <td>NaN</td>\n",
       "      <td>NaN</td>\n",
       "      <td>NaN</td>\n",
       "      <td>NaN</td>\n",
       "    </tr>\n",
       "    <tr>\n",
       "      <th>3</th>\n",
       "      <td>9994</td>\n",
       "      <td>32</td>\n",
       "      <td>Convertible</td>\n",
       "      <td>£20,774.00</td>\n",
       "      <td>£1,478.00</td>\n",
       "      <td>rural</td>\n",
       "      <td>NaN</td>\n",
       "      <td>declined</td>\n",
       "      <td>NaN</td>\n",
       "      <td>NaN</td>\n",
       "      <td>NaN</td>\n",
       "      <td>NaN</td>\n",
       "      <td>NaN</td>\n",
       "      <td>NaN</td>\n",
       "    </tr>\n",
       "    <tr>\n",
       "      <th>4</th>\n",
       "      <td>9993</td>\n",
       "      <td>29</td>\n",
       "      <td>Saloon</td>\n",
       "      <td>£4,612.00</td>\n",
       "      <td>£774.00</td>\n",
       "      <td>urban</td>\n",
       "      <td>NaN</td>\n",
       "      <td>declined</td>\n",
       "      <td>NaN</td>\n",
       "      <td>NaN</td>\n",
       "      <td>NaN</td>\n",
       "      <td>NaN</td>\n",
       "      <td>NaN</td>\n",
       "      <td>NaN</td>\n",
       "    </tr>\n",
       "  </tbody>\n",
       "</table>\n",
       "</div>"
      ],
      "text/plain": [
       "     ID  age     car_type  Loanamount    Deposit    area   APR  \\\n",
       "0  9997   61  Convertible   £24,108.00    £881.00  rural  0.15   \n",
       "1  9996   42       Saloon    £5,988.00    £967.00  rural  0.20   \n",
       "2  9995   57       Saloon    £5,099.00    £973.00  urban  0.15   \n",
       "3  9994   32  Convertible   £20,774.00  £1,478.00  rural   NaN   \n",
       "4  9993   29       Saloon    £4,612.00    £774.00  urban   NaN   \n",
       "\n",
       "  application_outcome Funded   Unnamed: 9  Unnamed: 10  Unnamed: 11  \\\n",
       "0            approved      No         NaN          NaN          NaN   \n",
       "1            approved      No         NaN          NaN          NaN   \n",
       "2            approved      No         NaN          NaN          NaN   \n",
       "3            declined     NaN         NaN          NaN          NaN   \n",
       "4            declined     NaN         NaN          NaN          NaN   \n",
       "\n",
       "   Unnamed: 12  Unnamed: 13  \n",
       "0          NaN          NaN  \n",
       "1          NaN          NaN  \n",
       "2          NaN          NaN  \n",
       "3          NaN          NaN  \n",
       "4          NaN          NaN  "
      ]
     },
     "execution_count": 2,
     "metadata": {},
     "output_type": "execute_result"
    }
   ],
   "source": [
    "#necessary libraries\n",
    "import pandas as pd\n",
    "import numpy as np\n",
    "import matplotlib.pyplot as plt\n",
    "from IPython.display import display \n",
    "import seaborn as sns\n",
    "%matplotlib inline\n",
    "\n",
    "df = pd.read_csv('Case_Study_data_for_test.csv')\n",
    "df.head()"
   ]
  },
  {
   "cell_type": "markdown",
   "metadata": {},
   "source": [
    "# Preprocessing Data"
   ]
  },
  {
   "cell_type": "code",
   "execution_count": 3,
   "metadata": {},
   "outputs": [
    {
     "name": "stdout",
     "output_type": "stream",
     "text": [
      "<class 'pandas.core.frame.DataFrame'>\n",
      "RangeIndex: 10000 entries, 0 to 9999\n",
      "Data columns (total 14 columns):\n",
      "ID                     10000 non-null int64\n",
      "age                    10000 non-null int64\n",
      "car_type               10000 non-null object\n",
      " Loanamount            10000 non-null object\n",
      " Deposit               10000 non-null object\n",
      "area                   10000 non-null object\n",
      "APR                    6470 non-null float64\n",
      "application_outcome    10000 non-null object\n",
      "Funded                 6470 non-null object\n",
      "Unnamed: 9             0 non-null float64\n",
      "Unnamed: 10            0 non-null float64\n",
      "Unnamed: 11            0 non-null float64\n",
      "Unnamed: 12            0 non-null float64\n",
      "Unnamed: 13            0 non-null float64\n",
      "dtypes: float64(6), int64(2), object(6)\n",
      "memory usage: 1.1+ MB\n"
     ]
    }
   ],
   "source": [
    "#Checking the available column types.\n",
    "df.info()"
   ]
  },
  {
   "cell_type": "code",
   "execution_count": 4,
   "metadata": {},
   "outputs": [],
   "source": [
    "#dropping the null columns\n",
    "df = df.drop(df.columns[[9,10,11,12,13]],axis = 1)"
   ]
  },
  {
   "cell_type": "code",
   "execution_count": 5,
   "metadata": {},
   "outputs": [
    {
     "data": {
      "text/plain": [
       "Index(['ID', 'age', 'car_type', ' Loanamount ', ' Deposit ', 'area', 'APR',\n",
       "       'application_outcome', 'Funded '],\n",
       "      dtype='object')"
      ]
     },
     "execution_count": 5,
     "metadata": {},
     "output_type": "execute_result"
    }
   ],
   "source": [
    "df.columns"
   ]
  },
  {
   "cell_type": "code",
   "execution_count": 6,
   "metadata": {},
   "outputs": [],
   "source": [
    "#Cleaning the parameter names\n",
    "df.columns = df.columns.str.lower().str.replace(' ', '')\n",
    "df['loanamount']= df['loanamount'].str.replace('£','').str.replace(',','')\n",
    "df['deposit'] = df['deposit'].str.replace('£','').str.replace(',','')\n",
    "df['loanamount'] =df['loanamount'].astype(float)\n",
    "df['deposit'] = df['deposit'].astype(float)"
   ]
  },
  {
   "cell_type": "markdown",
   "metadata": {},
   "source": [
    "It was observed that there were 5 Unnamed dummy columns and subsequently removed. The names of parameters contained unwanted spacing, which were renamed so that it becomes easy to use. The loan amount and deposit parameters were converted to type float."
   ]
  },
  {
   "cell_type": "markdown",
   "metadata": {},
   "source": [
    "# Exploratory Data Analysis\n"
   ]
  },
  {
   "cell_type": "code",
   "execution_count": 7,
   "metadata": {},
   "outputs": [
    {
     "data": {
      "text/plain": [
       "id                     10000\n",
       "age                       48\n",
       "car_type                   3\n",
       "loanamount              7517\n",
       "deposit                 4293\n",
       "area                       2\n",
       "apr                        5\n",
       "application_outcome        2\n",
       "funded                     2\n",
       "dtype: int64"
      ]
     },
     "execution_count": 7,
     "metadata": {},
     "output_type": "execute_result"
    }
   ],
   "source": [
    "#The number of values that each parameter takes in. \n",
    "df.nunique()"
   ]
  },
  {
   "cell_type": "markdown",
   "metadata": {},
   "source": [
    "Observed the number of values each parameter takes in and found that there are 5 category of APR and 3 types of car with customers belonging to either rural or urban area."
   ]
  },
  {
   "cell_type": "code",
   "execution_count": 8,
   "metadata": {},
   "outputs": [
    {
     "data": {
      "image/png": "[encoded data removed]",
      "text/plain": [
       "<Figure size 432x288 with 6 Axes>"
      ]
     },
     "metadata": {
      "needs_background": "light"
     },
     "output_type": "display_data"
    }
   ],
   "source": [
    "#histogram plot to identify the value counts.\n",
    "df.hist()\n",
    "plt.tight_layout()"
   ]
  },
  {
   "cell_type": "code",
   "execution_count": 9,
   "metadata": {},
   "outputs": [
    {
     "name": "stdout",
     "output_type": "stream",
     "text": [
      "The total number of people who got loan approvals : 6470\n"
     ]
    }
   ],
   "source": [
    "#Identifying total number of loan approved.\n",
    "print('The total number of people who got loan approvals : {}'.format(df['apr'].count()))"
   ]
  },
  {
   "cell_type": "code",
   "execution_count": 10,
   "metadata": {},
   "outputs": [
    {
     "name": "stdout",
     "output_type": "stream",
     "text": [
      "The number of ppl who applied from rural area : 5290 \n",
      "The number of ppl who got approval declined : 2247 \n",
      "The number of ppl who got approval : 3043\n",
      "Approval rate in Rural Area : 57.52%\n"
     ]
    }
   ],
   "source": [
    "#number of people from rural area\n",
    "total_rural_appl = df.query('area ==\"rural\"').count()[0]\n",
    "\n",
    "#number of people from rural area who got loan approval declined.\n",
    "total_declined_rural = df.query('area==\"rural\" and application_outcome==\"declined\"').count()[0]\n",
    "total_approved_rural = total_rural_appl - total_declined_rural\n",
    "\n",
    "\n",
    "print(\"The number of ppl who applied from rural area : {} \\nThe number of ppl who got approval declined : {} \\nThe number of ppl who got approval : {}\".format(total_rural_appl,total_declined_rural,total_approved_rural))\n",
    "print(\"Approval rate in Rural Area : {:.2f}%\".format(total_approved_rural/total_rural_appl * 100))"
   ]
  },
  {
   "cell_type": "code",
   "execution_count": 11,
   "metadata": {},
   "outputs": [
    {
     "name": "stdout",
     "output_type": "stream",
     "text": [
      "The number of ppl who applied from urban area : 4710 \n",
      "The number of ppl who got approval declined : 1283 \n",
      "The number of ppl who got approval : 3427\n",
      "Approval rate in Urban Area : 72.76%\n"
     ]
    }
   ],
   "source": [
    "#number of people from urban area\n",
    "total_urban_appl = df.query('area ==\"urban\"').count()[0]\n",
    "\n",
    "#number of people from urban area who got loan approval declined.\n",
    "total_declined_urban = df.query('area==\"urban\" and application_outcome==\"declined\"').count()[0]\n",
    "total_approved_urban = total_urban_appl - total_declined_urban\n",
    "\n",
    "\n",
    "print(\"The number of ppl who applied from urban area : {} \\nThe number of ppl who got approval declined : {} \\nThe number of ppl who got approval : {}\".format(total_urban_appl,total_declined_urban,total_approved_urban))\n",
    "print(\"Approval rate in Urban Area : {:.2f}%\".format(total_approved_urban/total_urban_appl * 100))"
   ]
  },
  {
   "cell_type": "code",
   "execution_count": 12,
   "metadata": {},
   "outputs": [
    {
     "data": {
      "text/html": [
       "<div>\n",
       "<style scoped>\n",
       "    .dataframe tbody tr th:only-of-type {\n",
       "        vertical-align: middle;\n",
       "    }\n",
       "\n",
       "    .dataframe tbody tr th {\n",
       "        vertical-align: top;\n",
       "    }\n",
       "\n",
       "    .dataframe thead th {\n",
       "        text-align: right;\n",
       "    }\n",
       "</style>\n",
       "<table border=\"1\" class=\"dataframe\">\n",
       "  <thead>\n",
       "    <tr style=\"text-align: right;\">\n",
       "      <th></th>\n",
       "      <th>id</th>\n",
       "      <th>age</th>\n",
       "      <th>loanamount</th>\n",
       "      <th>deposit</th>\n",
       "      <th>apr</th>\n",
       "    </tr>\n",
       "  </thead>\n",
       "  <tbody>\n",
       "    <tr>\n",
       "      <th>count</th>\n",
       "      <td>10000.00000</td>\n",
       "      <td>10000.000000</td>\n",
       "      <td>10000.000000</td>\n",
       "      <td>10000.000000</td>\n",
       "      <td>6470.000000</td>\n",
       "    </tr>\n",
       "    <tr>\n",
       "      <th>mean</th>\n",
       "      <td>5000.50000</td>\n",
       "      <td>40.477400</td>\n",
       "      <td>11920.430200</td>\n",
       "      <td>2668.142100</td>\n",
       "      <td>0.148810</td>\n",
       "    </tr>\n",
       "    <tr>\n",
       "      <th>std</th>\n",
       "      <td>2886.89568</td>\n",
       "      <td>14.015903</td>\n",
       "      <td>5882.825283</td>\n",
       "      <td>1669.184029</td>\n",
       "      <td>0.064095</td>\n",
       "    </tr>\n",
       "    <tr>\n",
       "      <th>min</th>\n",
       "      <td>1.00000</td>\n",
       "      <td>18.000000</td>\n",
       "      <td>2502.000000</td>\n",
       "      <td>500.000000</td>\n",
       "      <td>0.050000</td>\n",
       "    </tr>\n",
       "    <tr>\n",
       "      <th>25%</th>\n",
       "      <td>2500.75000</td>\n",
       "      <td>27.000000</td>\n",
       "      <td>7527.250000</td>\n",
       "      <td>1106.000000</td>\n",
       "      <td>0.100000</td>\n",
       "    </tr>\n",
       "    <tr>\n",
       "      <th>50%</th>\n",
       "      <td>5000.50000</td>\n",
       "      <td>40.000000</td>\n",
       "      <td>11218.500000</td>\n",
       "      <td>2364.500000</td>\n",
       "      <td>0.150000</td>\n",
       "    </tr>\n",
       "    <tr>\n",
       "      <th>75%</th>\n",
       "      <td>7500.25000</td>\n",
       "      <td>53.000000</td>\n",
       "      <td>15922.750000</td>\n",
       "      <td>4079.250000</td>\n",
       "      <td>0.200000</td>\n",
       "    </tr>\n",
       "    <tr>\n",
       "      <th>max</th>\n",
       "      <td>10000.00000</td>\n",
       "      <td>65.000000</td>\n",
       "      <td>26986.000000</td>\n",
       "      <td>6000.000000</td>\n",
       "      <td>0.250000</td>\n",
       "    </tr>\n",
       "  </tbody>\n",
       "</table>\n",
       "</div>"
      ],
      "text/plain": [
       "                id           age    loanamount       deposit          apr\n",
       "count  10000.00000  10000.000000  10000.000000  10000.000000  6470.000000\n",
       "mean    5000.50000     40.477400  11920.430200   2668.142100     0.148810\n",
       "std     2886.89568     14.015903   5882.825283   1669.184029     0.064095\n",
       "min        1.00000     18.000000   2502.000000    500.000000     0.050000\n",
       "25%     2500.75000     27.000000   7527.250000   1106.000000     0.100000\n",
       "50%     5000.50000     40.000000  11218.500000   2364.500000     0.150000\n",
       "75%     7500.25000     53.000000  15922.750000   4079.250000     0.200000\n",
       "max    10000.00000     65.000000  26986.000000   6000.000000     0.250000"
      ]
     },
     "metadata": {},
     "output_type": "display_data"
    }
   ],
   "source": [
    "display(df.describe())"
   ]
  },
  {
   "cell_type": "markdown",
   "metadata": {},
   "source": [
    "It was observed that the customers age fell between 18 - 65 years. The average deposit amount was 2668.14 \n",
    "with average APR = 14.88 %."
   ]
  },
  {
   "cell_type": "code",
   "execution_count": 13,
   "metadata": {},
   "outputs": [
    {
     "data": {
      "text/html": [
       "<div>\n",
       "<style scoped>\n",
       "    .dataframe tbody tr th:only-of-type {\n",
       "        vertical-align: middle;\n",
       "    }\n",
       "\n",
       "    .dataframe tbody tr th {\n",
       "        vertical-align: top;\n",
       "    }\n",
       "\n",
       "    .dataframe thead th {\n",
       "        text-align: right;\n",
       "    }\n",
       "</style>\n",
       "<table border=\"1\" class=\"dataframe\">\n",
       "  <thead>\n",
       "    <tr style=\"text-align: right;\">\n",
       "      <th></th>\n",
       "      <th>id</th>\n",
       "      <th>age</th>\n",
       "      <th>car_type</th>\n",
       "      <th>loanamount</th>\n",
       "      <th>deposit</th>\n",
       "      <th>area</th>\n",
       "      <th>apr</th>\n",
       "      <th>application_outcome</th>\n",
       "      <th>funded</th>\n",
       "    </tr>\n",
       "  </thead>\n",
       "  <tbody>\n",
       "    <tr>\n",
       "      <th>5212</th>\n",
       "      <td>1730</td>\n",
       "      <td>47</td>\n",
       "      <td>Convertible</td>\n",
       "      <td>26986.0</td>\n",
       "      <td>2509.0</td>\n",
       "      <td>rural</td>\n",
       "      <td>0.15</td>\n",
       "      <td>approved</td>\n",
       "      <td>No</td>\n",
       "    </tr>\n",
       "  </tbody>\n",
       "</table>\n",
       "</div>"
      ],
      "text/plain": [
       "        id  age     car_type  loanamount  deposit   area   apr  \\\n",
       "5212  1730   47  Convertible     26986.0   2509.0  rural  0.15   \n",
       "\n",
       "     application_outcome funded  \n",
       "5212            approved     No  "
      ]
     },
     "execution_count": 13,
     "metadata": {},
     "output_type": "execute_result"
    }
   ],
   "source": [
    "#The guy with maximum loan\n",
    "df.query('loanamount == 26986')"
   ]
  },
  {
   "cell_type": "markdown",
   "metadata": {},
   "source": [
    "I was eager to know this, the maximum loan amount that a customer has taken as of now is 26986£ who is interested in Convertible car. \n",
    "His/Her application has been approved but not yet been funded."
   ]
  },
  {
   "cell_type": "code",
   "execution_count": 14,
   "metadata": {},
   "outputs": [
    {
     "data": {
      "text/plain": [
       "area   car_type   \n",
       "rural  Convertible    1521\n",
       "       SUV            2229\n",
       "       Saloon         1540\n",
       "urban  Convertible    1512\n",
       "       SUV            1601\n",
       "       Saloon         1597\n",
       "Name: id, dtype: int64"
      ]
     },
     "execution_count": 14,
     "metadata": {},
     "output_type": "execute_result"
    }
   ],
   "source": [
    "#area-wise distribution of different car types.\n",
    "area_wise_df = df.groupby('area')\n",
    "area_wise_car_gp = area_wise_df.apply(lambda x : x.groupby('car_type'))\n",
    "df.groupby(['area','car_type']).count()['id']"
   ]
  },
  {
   "cell_type": "markdown",
   "metadata": {},
   "source": [
    "The objective is to find some insights that can be used by the Marketing team. For this purpose, its better to focus on approved customer details."
   ]
  },
  {
   "cell_type": "code",
   "execution_count": 15,
   "metadata": {},
   "outputs": [
    {
     "name": "stderr",
     "output_type": "stream",
     "text": [
      "/home/ak/anaconda3/lib/python3.7/site-packages/pandas/core/frame.py:3940: SettingWithCopyWarning: \n",
      "A value is trying to be set on a copy of a slice from a DataFrame\n",
      "\n",
      "See the caveats in the documentation: http://pandas.pydata.org/pandas-docs/stable/indexing.html#indexing-view-versus-copy\n",
      "  errors=errors)\n"
     ]
    },
    {
     "data": {
      "text/html": [
       "<div>\n",
       "<style scoped>\n",
       "    .dataframe tbody tr th:only-of-type {\n",
       "        vertical-align: middle;\n",
       "    }\n",
       "\n",
       "    .dataframe tbody tr th {\n",
       "        vertical-align: top;\n",
       "    }\n",
       "\n",
       "    .dataframe thead th {\n",
       "        text-align: right;\n",
       "    }\n",
       "</style>\n",
       "<table border=\"1\" class=\"dataframe\">\n",
       "  <thead>\n",
       "    <tr style=\"text-align: right;\">\n",
       "      <th></th>\n",
       "      <th>id</th>\n",
       "      <th>age</th>\n",
       "      <th>car_type</th>\n",
       "      <th>loanamount</th>\n",
       "      <th>deposit</th>\n",
       "      <th>area</th>\n",
       "      <th>apr</th>\n",
       "      <th>funded</th>\n",
       "    </tr>\n",
       "  </thead>\n",
       "  <tbody>\n",
       "    <tr>\n",
       "      <th>0</th>\n",
       "      <td>9997</td>\n",
       "      <td>61</td>\n",
       "      <td>Convertible</td>\n",
       "      <td>24108.0</td>\n",
       "      <td>881.0</td>\n",
       "      <td>rural</td>\n",
       "      <td>0.15</td>\n",
       "      <td>No</td>\n",
       "    </tr>\n",
       "    <tr>\n",
       "      <th>1</th>\n",
       "      <td>9996</td>\n",
       "      <td>42</td>\n",
       "      <td>Saloon</td>\n",
       "      <td>5988.0</td>\n",
       "      <td>967.0</td>\n",
       "      <td>rural</td>\n",
       "      <td>0.20</td>\n",
       "      <td>No</td>\n",
       "    </tr>\n",
       "    <tr>\n",
       "      <th>2</th>\n",
       "      <td>9995</td>\n",
       "      <td>57</td>\n",
       "      <td>Saloon</td>\n",
       "      <td>5099.0</td>\n",
       "      <td>973.0</td>\n",
       "      <td>urban</td>\n",
       "      <td>0.15</td>\n",
       "      <td>No</td>\n",
       "    </tr>\n",
       "    <tr>\n",
       "      <th>6</th>\n",
       "      <td>9985</td>\n",
       "      <td>49</td>\n",
       "      <td>SUV</td>\n",
       "      <td>9738.0</td>\n",
       "      <td>671.0</td>\n",
       "      <td>rural</td>\n",
       "      <td>0.15</td>\n",
       "      <td>Yes</td>\n",
       "    </tr>\n",
       "    <tr>\n",
       "      <th>7</th>\n",
       "      <td>9981</td>\n",
       "      <td>52</td>\n",
       "      <td>Saloon</td>\n",
       "      <td>6341.0</td>\n",
       "      <td>533.0</td>\n",
       "      <td>urban</td>\n",
       "      <td>0.15</td>\n",
       "      <td>No</td>\n",
       "    </tr>\n",
       "  </tbody>\n",
       "</table>\n",
       "</div>"
      ],
      "text/plain": [
       "     id  age     car_type  loanamount  deposit   area   apr funded\n",
       "0  9997   61  Convertible     24108.0    881.0  rural  0.15     No\n",
       "1  9996   42       Saloon      5988.0    967.0  rural  0.20     No\n",
       "2  9995   57       Saloon      5099.0    973.0  urban  0.15     No\n",
       "6  9985   49          SUV      9738.0    671.0  rural  0.15    Yes\n",
       "7  9981   52       Saloon      6341.0    533.0  urban  0.15     No"
      ]
     },
     "execution_count": 15,
     "metadata": {},
     "output_type": "execute_result"
    }
   ],
   "source": [
    "#df_approved contains only details of customers whose applications were approved.\n",
    "df_approved = df.query('application_outcome==\"approved\"')\n",
    "#drop applcn outcome from df_approved.\n",
    "df_approved.drop(['application_outcome'],axis=1,inplace= True)\n",
    "df_approved.head(5)"
   ]
  },
  {
   "cell_type": "markdown",
   "metadata": {},
   "source": [
    "Before Applying Principal Component Analysis it is very important that the values given to the Machine Learning\n",
    "Algorithms are numeric. Hence, the column values of funded, area and car type are encoded using suitable encoding\n",
    "technique - Label Encoding and One Hot Encoding."
   ]
  },
  {
   "cell_type": "code",
   "execution_count": 16,
   "metadata": {},
   "outputs": [
    {
     "name": "stderr",
     "output_type": "stream",
     "text": [
      "/home/ak/anaconda3/lib/python3.7/site-packages/ipykernel_launcher.py:2: SettingWithCopyWarning: \n",
      "A value is trying to be set on a copy of a slice from a DataFrame.\n",
      "Try using .loc[row_indexer,col_indexer] = value instead\n",
      "\n",
      "See the caveats in the documentation: http://pandas.pydata.org/pandas-docs/stable/indexing.html#indexing-view-versus-copy\n",
      "  \n",
      "/home/ak/anaconda3/lib/python3.7/site-packages/ipykernel_launcher.py:3: SettingWithCopyWarning: \n",
      "A value is trying to be set on a copy of a slice from a DataFrame.\n",
      "Try using .loc[row_indexer,col_indexer] = value instead\n",
      "\n",
      "See the caveats in the documentation: http://pandas.pydata.org/pandas-docs/stable/indexing.html#indexing-view-versus-copy\n",
      "  This is separate from the ipykernel package so we can avoid doing imports until\n"
     ]
    },
    {
     "data": {
      "text/html": [
       "<div>\n",
       "<style scoped>\n",
       "    .dataframe tbody tr th:only-of-type {\n",
       "        vertical-align: middle;\n",
       "    }\n",
       "\n",
       "    .dataframe tbody tr th {\n",
       "        vertical-align: top;\n",
       "    }\n",
       "\n",
       "    .dataframe thead th {\n",
       "        text-align: right;\n",
       "    }\n",
       "</style>\n",
       "<table border=\"1\" class=\"dataframe\">\n",
       "  <thead>\n",
       "    <tr style=\"text-align: right;\">\n",
       "      <th></th>\n",
       "      <th>id</th>\n",
       "      <th>age</th>\n",
       "      <th>car_type</th>\n",
       "      <th>loanamount</th>\n",
       "      <th>deposit</th>\n",
       "      <th>area</th>\n",
       "      <th>apr</th>\n",
       "      <th>funded_cat</th>\n",
       "    </tr>\n",
       "  </thead>\n",
       "  <tbody>\n",
       "    <tr>\n",
       "      <th>0</th>\n",
       "      <td>9997</td>\n",
       "      <td>61</td>\n",
       "      <td>Convertible</td>\n",
       "      <td>24108.0</td>\n",
       "      <td>881.0</td>\n",
       "      <td>rural</td>\n",
       "      <td>0.15</td>\n",
       "      <td>0</td>\n",
       "    </tr>\n",
       "    <tr>\n",
       "      <th>1</th>\n",
       "      <td>9996</td>\n",
       "      <td>42</td>\n",
       "      <td>Saloon</td>\n",
       "      <td>5988.0</td>\n",
       "      <td>967.0</td>\n",
       "      <td>rural</td>\n",
       "      <td>0.20</td>\n",
       "      <td>0</td>\n",
       "    </tr>\n",
       "    <tr>\n",
       "      <th>2</th>\n",
       "      <td>9995</td>\n",
       "      <td>57</td>\n",
       "      <td>Saloon</td>\n",
       "      <td>5099.0</td>\n",
       "      <td>973.0</td>\n",
       "      <td>urban</td>\n",
       "      <td>0.15</td>\n",
       "      <td>0</td>\n",
       "    </tr>\n",
       "    <tr>\n",
       "      <th>6</th>\n",
       "      <td>9985</td>\n",
       "      <td>49</td>\n",
       "      <td>SUV</td>\n",
       "      <td>9738.0</td>\n",
       "      <td>671.0</td>\n",
       "      <td>rural</td>\n",
       "      <td>0.15</td>\n",
       "      <td>1</td>\n",
       "    </tr>\n",
       "    <tr>\n",
       "      <th>7</th>\n",
       "      <td>9981</td>\n",
       "      <td>52</td>\n",
       "      <td>Saloon</td>\n",
       "      <td>6341.0</td>\n",
       "      <td>533.0</td>\n",
       "      <td>urban</td>\n",
       "      <td>0.15</td>\n",
       "      <td>0</td>\n",
       "    </tr>\n",
       "  </tbody>\n",
       "</table>\n",
       "</div>"
      ],
      "text/plain": [
       "     id  age     car_type  loanamount  deposit   area   apr  funded_cat\n",
       "0  9997   61  Convertible     24108.0    881.0  rural  0.15           0\n",
       "1  9996   42       Saloon      5988.0    967.0  rural  0.20           0\n",
       "2  9995   57       Saloon      5099.0    973.0  urban  0.15           0\n",
       "6  9985   49          SUV      9738.0    671.0  rural  0.15           1\n",
       "7  9981   52       Saloon      6341.0    533.0  urban  0.15           0"
      ]
     },
     "execution_count": 16,
     "metadata": {},
     "output_type": "execute_result"
    }
   ],
   "source": [
    "#label encoding for funded column\n",
    "df_approved['funded_cat'] = df_approved['funded'].astype('category')\n",
    "df_approved['funded_cat'] = df_approved['funded_cat'].cat.codes\n",
    "df_approved.drop(['funded'],axis = 1, inplace=True)\n",
    "df_approved.head(5)"
   ]
  },
  {
   "cell_type": "code",
   "execution_count": 17,
   "metadata": {},
   "outputs": [],
   "source": [
    "#one hot encoding for car_type and area.\n",
    "df_approved = pd.get_dummies(df_approved, columns=['car_type','area'], prefix = ['body','area'])"
   ]
  },
  {
   "cell_type": "code",
   "execution_count": 18,
   "metadata": {
    "scrolled": true
   },
   "outputs": [
    {
     "name": "stdout",
     "output_type": "stream",
     "text": [
      "<class 'pandas.core.frame.DataFrame'>\n",
      "RangeIndex: 6470 entries, 0 to 6469\n",
      "Data columns (total 11 columns):\n",
      "id                  6470 non-null int64\n",
      "age                 6470 non-null int64\n",
      "loanamount          6470 non-null float64\n",
      "deposit             6470 non-null float64\n",
      "apr                 6470 non-null float64\n",
      "funded_cat          6470 non-null int8\n",
      "body_Convertible    6470 non-null uint8\n",
      "body_SUV            6470 non-null uint8\n",
      "body_Saloon         6470 non-null uint8\n",
      "area_rural          6470 non-null uint8\n",
      "area_urban          6470 non-null uint8\n",
      "dtypes: float64(3), int64(2), int8(1), uint8(5)\n",
      "memory usage: 290.7 KB\n"
     ]
    }
   ],
   "source": [
    "#Ensure that all variables are numeric.\n",
    "df_approved = df_approved.reset_index(drop=True)\n",
    "df_approved.info()"
   ]
  },
  {
   "cell_type": "markdown",
   "metadata": {},
   "source": [
    "**Comparison of Customer Conversion Rate Based on Area**"
   ]
  },
  {
   "cell_type": "code",
   "execution_count": 19,
   "metadata": {},
   "outputs": [],
   "source": [
    "#Evaluating the total number of applied,approved and funded customers.\n",
    "applied_arr = []\n",
    "approved_arr = [] \n",
    "funded_arr = []\n",
    "\n",
    "applied_arr.append(df.query('area ==\"rural\"').count()[0])\n",
    "approved_arr.append(df_approved.query('area_rural == 1').count()[0])\n",
    "funded_arr.append(df_approved.query('area_rural == 1 and funded_cat == 1').count()[0])\n",
    "applied_arr.append(df.query('area == \"urban\"').count()[0])\n",
    "approved_arr.append(df_approved.query('area_urban == 1').count()[0])\n",
    "funded_arr.append(df_approved.query('area_urban == 1 and funded_cat == 1').count()[0])\n",
    "\n",
    "    "
   ]
  },
  {
   "cell_type": "code",
   "execution_count": 20,
   "metadata": {},
   "outputs": [
    {
     "data": {
      "image/png": "[encoded data removed]",
      "text/plain": [
       "<Figure size 432x288 with 1 Axes>"
      ]
     },
     "metadata": {
      "needs_background": "light"
     },
     "output_type": "display_data"
    }
   ],
   "source": [
    "#Plot illustrating the comparison of number of customers in rural and urban area.\n",
    "barWidth = 0.25\n",
    "# Set position of bar on X axis\n",
    "r1 = np.arange(len(applied_arr))\n",
    "r2 = [x + barWidth for x in r1]\n",
    "r3 = [x + barWidth for x in r2]\n",
    " \n",
    "# Make the plot\n",
    "plt.bar(r1, applied_arr, color='#7f6d5f', width=barWidth, edgecolor='white', label='Applied')\n",
    "plt.bar(r2, approved_arr, color='#557f2d', width=barWidth, edgecolor='white', label='Approved')\n",
    "plt.bar(r3, funded_arr, color='#2d7f5e', width=barWidth, edgecolor='white', label='Funded')\n",
    " \n",
    "# Add xticks on the middle of the group bars\n",
    "plt.xlabel('Area', fontweight='bold')\n",
    "plt.xticks([r + barWidth for r in range(len(applied_arr))], ['Rural', 'Urban'])\n",
    "plt.ylabel('Number of Customers', fontweight='bold')\n",
    "# Create legend & Show graphic\n",
    "plt.legend(loc='best',bbox_to_anchor=(1,1.1),bbox_transform=plt.gcf().transFigure)\n",
    "plt.show()"
   ]
  },
  {
   "cell_type": "code",
   "execution_count": 21,
   "metadata": {
    "scrolled": true
   },
   "outputs": [
    {
     "data": {
      "image/png": "[encoded data removed]",
      "text/plain": [
       "<Figure size 432x288 with 1 Axes>"
      ]
     },
     "metadata": {},
     "output_type": "display_data"
    }
   ],
   "source": [
    "#Pie Chart to show the area wise comparison\n",
    "conversion_rate = []\n",
    "for i in range(len(applied_arr)):\n",
    "    conversion_rate.append(round(((funded_arr[i]/applied_arr[i]) * 100),2))\n",
    "labels = ['Rural', 'Urban']\n",
    "colors = ['yellowgreen', 'gold']\n",
    "# Pie chart\n",
    "explode = (0, 0.1)  \n",
    "fig1, ax1 = plt.subplots()\n",
    "ax1.pie(conversion_rate, explode=explode, labels=labels, autopct='%1.1f%%',\n",
    "        shadow=True, startangle=90) # Equal aspect ratio ensures that pie is drawn as a circle\n",
    "ax1.axis('equal') \n",
    "plt.tight_layout()\n",
    "plt.title('Comparison of Customer Conversion Rate based on Area ',loc='center',fontweight='bold')\n",
    "plt.autoscale\n",
    "plt.show()"
   ]
  },
  {
   "cell_type": "markdown",
   "metadata": {},
   "source": [
    "**Observation** : The ratio of customers who get the loan approval and use the fund is higher(62.2%) in urban area\n",
    "    compared to rural area(37.8%) .\n",
    "    \n",
    "**Marketing Strategy** : For **paid adverstising** and **print media advertising**, it is recommended to invest **more** in **urban areas**. That is, setting up digital banners, distribution of pamphlets, coupons etc can be carried out in urban areas to attract more customers. "
   ]
  },
  {
   "cell_type": "markdown",
   "metadata": {},
   "source": [
    "**Comparison of Conversion Rate based on Age Category**"
   ]
  },
  {
   "cell_type": "code",
   "execution_count": 22,
   "metadata": {},
   "outputs": [],
   "source": [
    "#Evaluating the total number of applied,approved and funded customers.\n",
    "applied_arr =[]\n",
    "approved_arr = []\n",
    "funded_arr = []\n",
    "lwr_bound = [18,26,36,46,56]\n",
    "upr_bound = [25,35,45,55,65]\n",
    "\n",
    "for i in range(len(lwr_bound)):\n",
    "    applied_arr.append(len(df.age[(df.age <= upr_bound[i]) & (df.age >= lwr_bound[i])].values))\n",
    "    approved_arr.append(len(df_approved.age[(df_approved.age <= upr_bound[i]) & (df_approved.age >= lwr_bound[i])].values))\n",
    "    funded_arr.append(len(df_approved.age[(df_approved.age <= upr_bound[i]) & (df_approved.age >= lwr_bound[i]) & (df_approved.funded_cat == 1)].values))\n",
    "    "
   ]
  },
  {
   "cell_type": "code",
   "execution_count": 23,
   "metadata": {
    "scrolled": true
   },
   "outputs": [
    {
     "data": {
      "image/png": "[encoded data removed]",
      "text/plain": [
       "<Figure size 432x288 with 1 Axes>"
      ]
     },
     "metadata": {
      "needs_background": "light"
     },
     "output_type": "display_data"
    }
   ],
   "source": [
    "#Plot representing conversion rate of customers based on age categories\n",
    "barWidth = 0.25\n",
    "\n",
    "# Set position of bar on X axis\n",
    "r1 = np.arange(len(applied_arr))\n",
    "r2 = [x + barWidth for x in r1]\n",
    "r3 = [x + barWidth for x in r2]\n",
    " \n",
    "# Make the plot\n",
    "plt.bar(r1, applied_arr, color='#7f6d5f', width=barWidth, edgecolor='white', label='Applied')\n",
    "plt.bar(r2, approved_arr, color='#557f2d', width=barWidth, edgecolor='white', label='Approved')\n",
    "plt.bar(r3, funded_arr, color='#2d7f5e', width=barWidth, edgecolor='white', label='Funded')\n",
    " \n",
    "# Add xticks on the middle of the group bars\n",
    "plt.xlabel('Age Group', fontweight='bold')\n",
    "plt.xticks([r + barWidth for r in range(len(applied_arr))], ['18-25', '26-35', '36-45', '46-55', '55>'])\n",
    "plt.ylabel('Frquency Count', fontweight='bold')\n",
    "# Create legend & Show graphic\n",
    "plt.legend(loc='best',bbox_to_anchor=(1,1.1),bbox_transform=plt.gcf().transFigure)\n",
    "plt.show()"
   ]
  },
  {
   "cell_type": "code",
   "execution_count": 24,
   "metadata": {
    "scrolled": true
   },
   "outputs": [
    {
     "data": {
      "image/png": "[encoded data removed]",
      "text/plain": [
       "<Figure size 432x288 with 1 Axes>"
      ]
     },
     "metadata": {},
     "output_type": "display_data"
    }
   ],
   "source": [
    "#Pie chart representing customer conversion rate based on age\n",
    "conversion_rate = []\n",
    "for i in range(len(applied_arr)):\n",
    "    conversion_rate.append(round(((funded_arr[i]/applied_arr[i]) * 100),2))\n",
    "labels = ['18-25 yrs', '26-35 yrs', '36-45 yrs', '46-55 yrs', '> 55 yrs']\n",
    "colors = ['yellowgreen', 'gold', 'lightskyblue', 'lightcoral','blue']\n",
    "# Pie chart\n",
    "explode = (0, 0, 0, 0, 0.1)  \n",
    "fig1, ax1 = plt.subplots()\n",
    "ax1.pie(conversion_rate, explode=explode, labels=labels, autopct='%1.1f%%',\n",
    "        shadow=True, startangle=90) # Equal aspect ratio ensures that pie is drawn as a circle\n",
    "ax1.axis('equal') \n",
    "plt.tight_layout()\n",
    "plt.title('Comparison of Customer Conversion Rate based on Age Categories ',loc='center',fontweight='bold')\n",
    "plt.autoscale\n",
    "plt.show()"
   ]
  },
  {
   "cell_type": "markdown",
   "metadata": {},
   "source": [
    "**Observation** : It is clearly seen that major of our customers who get loan approval and use the fund belong to\n",
    "    the age-group of 36-65.\n",
    "    \n",
    "**Marketing Strategy** : The **content** for **Digital Marketing**, Internet Marketing and Social Media Marketing \n",
    "    can be chosen such that it suits and **attracts** the people in **age-group** of **36-65 years**."
   ]
  },
  {
   "cell_type": "markdown",
   "metadata": {},
   "source": [
    "**Data Visualization using PCA**\n",
    "\n",
    "Now that we have handled all the categorical variables, its time to normalize the data followed by visualization\n",
    "using Principal Component Analysis. "
   ]
  },
  {
   "cell_type": "code",
   "execution_count": 25,
   "metadata": {},
   "outputs": [],
   "source": [
    "features = df_approved.columns.values\n",
    "from sklearn.preprocessing import StandardScaler\n",
    "x = df_approved.loc[:,features].values\n",
    "x = StandardScaler().fit_transform(x)"
   ]
  },
  {
   "cell_type": "code",
   "execution_count": 26,
   "metadata": {},
   "outputs": [
    {
     "data": {
      "text/plain": [
       "(6470, 11)"
      ]
     },
     "execution_count": 26,
     "metadata": {},
     "output_type": "execute_result"
    }
   ],
   "source": [
    "x.shape"
   ]
  },
  {
   "cell_type": "code",
   "execution_count": 27,
   "metadata": {},
   "outputs": [
    {
     "data": {
      "text/plain": [
       "(1.916877971981723e-17, 0.9999999999999999)"
      ]
     },
     "execution_count": 27,
     "metadata": {},
     "output_type": "execute_result"
    }
   ],
   "source": [
    "#Check whether the normalized data has a mean of zero and a standard deviation of one.\n",
    "np.mean(x),np.std(x)"
   ]
  },
  {
   "cell_type": "code",
   "execution_count": 28,
   "metadata": {},
   "outputs": [
    {
     "data": {
      "text/html": [
       "<div>\n",
       "<style scoped>\n",
       "    .dataframe tbody tr th:only-of-type {\n",
       "        vertical-align: middle;\n",
       "    }\n",
       "\n",
       "    .dataframe tbody tr th {\n",
       "        vertical-align: top;\n",
       "    }\n",
       "\n",
       "    .dataframe thead th {\n",
       "        text-align: right;\n",
       "    }\n",
       "</style>\n",
       "<table border=\"1\" class=\"dataframe\">\n",
       "  <thead>\n",
       "    <tr style=\"text-align: right;\">\n",
       "      <th></th>\n",
       "      <th>Principal_Comp1</th>\n",
       "      <th>Principal_Comp2</th>\n",
       "    </tr>\n",
       "  </thead>\n",
       "  <tbody>\n",
       "    <tr>\n",
       "      <th>6465</th>\n",
       "      <td>-0.945880</td>\n",
       "      <td>-1.443668</td>\n",
       "    </tr>\n",
       "    <tr>\n",
       "      <th>6466</th>\n",
       "      <td>3.316927</td>\n",
       "      <td>-0.801520</td>\n",
       "    </tr>\n",
       "    <tr>\n",
       "      <th>6467</th>\n",
       "      <td>2.583967</td>\n",
       "      <td>1.925990</td>\n",
       "    </tr>\n",
       "    <tr>\n",
       "      <th>6468</th>\n",
       "      <td>1.057181</td>\n",
       "      <td>-1.440438</td>\n",
       "    </tr>\n",
       "    <tr>\n",
       "      <th>6469</th>\n",
       "      <td>-0.721268</td>\n",
       "      <td>-1.722117</td>\n",
       "    </tr>\n",
       "  </tbody>\n",
       "</table>\n",
       "</div>"
      ],
      "text/plain": [
       "      Principal_Comp1  Principal_Comp2\n",
       "6465        -0.945880        -1.443668\n",
       "6466         3.316927        -0.801520\n",
       "6467         2.583967         1.925990\n",
       "6468         1.057181        -1.440438\n",
       "6469        -0.721268        -1.722117"
      ]
     },
     "execution_count": 28,
     "metadata": {},
     "output_type": "execute_result"
    }
   ],
   "source": [
    "from sklearn.decomposition import PCA\n",
    "pca_appr_cust = PCA(n_components = 2)\n",
    "prin_comp_appr_cust = pca_appr_cust.fit_transform(x)\n",
    "\n",
    "df_pca_appr_cust = pd.DataFrame(data= prin_comp_appr_cust, columns=['Principal_Comp1','Principal_Comp2'])\n",
    "df_pca_appr_cust.tail()"
   ]
  },
  {
   "cell_type": "markdown",
   "metadata": {},
   "source": [
    "Now comes the critical part, next we will be projecting the Eleven-dimensional xyz company data to two-dimensional \n",
    "principal components."
   ]
  },
  {
   "cell_type": "code",
   "execution_count": 29,
   "metadata": {},
   "outputs": [
    {
     "data": {
      "text/plain": [
       "array([0.2088237 , 0.18451056])"
      ]
     },
     "execution_count": 29,
     "metadata": {},
     "output_type": "execute_result"
    }
   ],
   "source": [
    "#Amount of data covered\n",
    "pca_appr_cust.explained_variance_ratio_"
   ]
  },
  {
   "cell_type": "markdown",
   "metadata": {},
   "source": [
    "From the above output, we can observe that the principal component 1 holds around 21% of the information while \n",
    "the principal component 2 holds only 18% of the information. Also, the other point to note is that while \n",
    "projecting eleven-dimensional data to a two-dimensional data, 61% information was lost.\n",
    "\n",
    "Let's plot the visualization of the samples along the principal component - 1 and principal component - 2 axis. \n",
    "It should give good insight into how your samples are distributed among the two classes."
   ]
  },
  {
   "cell_type": "code",
   "execution_count": 30,
   "metadata": {
    "scrolled": true
   },
   "outputs": [
    {
     "data": {
      "text/plain": [
       "<Figure size 432x288 with 0 Axes>"
      ]
     },
     "metadata": {},
     "output_type": "display_data"
    },
    {
     "data": {
      "image/png": "[encoded data removed]",
      "text/plain": [
       "<Figure size 432x432 with 1 Axes>"
      ]
     },
     "metadata": {
      "needs_background": "light"
     },
     "output_type": "display_data"
    }
   ],
   "source": [
    "#Principal Component Analysis Chart\n",
    "plt.figure()\n",
    "plt.figure(figsize=(6,6))\n",
    "plt.xticks(fontsize=12)\n",
    "plt.yticks(fontsize=14)\n",
    "plt.xlabel('Principal Component - 1',fontsize=20)\n",
    "plt.ylabel('Principal Component - 2',fontsize=20)\n",
    "plt.title(\"Principal Component Analysis of xyz Finance Dataset\",fontsize=20)\n",
    "targets = [0, 1]\n",
    "colors = ['r', 'g']\n",
    "for target, color in zip(targets,colors):\n",
    "    indicesToKeep = df_approved['funded_cat'] == target\n",
    "    plt.scatter(df_pca_appr_cust.loc[indicesToKeep, 'Principal_Comp1']\n",
    "               , df_pca_appr_cust.loc[indicesToKeep, 'Principal_Comp2'],c = color, s = 50)\n",
    "plt.autoscale\n",
    "plt.legend(['Not funded','Funded'],loc = 'best',prop={'size': 15})\n",
    "plt.show()"
   ]
  },
  {
   "cell_type": "markdown",
   "metadata": {},
   "source": [
    "From the above graph, you can observe that the two classes Funded and Not Funded, when projected to a two-dimensional space, can be linearly separated. Since its clear that we can distinguish the 2 classes, correlation between the parameters is plotted and observed as shown below."
   ]
  },
  {
   "cell_type": "code",
   "execution_count": 31,
   "metadata": {},
   "outputs": [
    {
     "data": {
      "image/png": "[encoded data removed]",
      "text/plain": [
       "<Figure size 432x288 with 2 Axes>"
      ]
     },
     "metadata": {
      "needs_background": "light"
     },
     "output_type": "display_data"
    }
   ],
   "source": [
    "#correlation between the variables.\n",
    "corr = df_approved.corr()\n",
    "fig = plt.figure()\n",
    "ax = fig.add_subplot(111)\n",
    "cax = ax.matshow(corr,cmap='coolwarm', vmin=-1, vmax=1)\n",
    "fig.colorbar(cax)\n",
    "ticks = np.arange(0,len(df_approved.columns),1)\n",
    "ax.set_xticks(ticks)\n",
    "plt.xticks(rotation=90)\n",
    "ax.set_yticks(ticks)\n",
    "ax.set_xticklabels(df_approved.columns)\n",
    "ax.set_yticklabels(df_approved.columns)\n",
    "ax.set_title('Correlation Table representing the relationship between different parameters', pad=100,loc = 'center',fontweight='bold')\n",
    "plt.autoscale\n",
    "plt.show()"
   ]
  },
  {
   "cell_type": "markdown",
   "metadata": {},
   "source": [
    "**Feature Selection and K-Means Clustering**\n",
    "\n",
    "From the above correlation table its clear that there is a strong positive correlation between loan amount and\n",
    "convertible car type. Let's try to cluster the set of customers using K-Means Clustering. For this we will make \n",
    "use of Elbow Method to determine the value of K for applying the algorithm."
   ]
  },
  {
   "cell_type": "code",
   "execution_count": 32,
   "metadata": {},
   "outputs": [
    {
     "data": {
      "image/png": "[encoded data removed]",
      "text/plain": [
       "<Figure size 432x288 with 1 Axes>"
      ]
     },
     "metadata": {
      "needs_background": "light"
     },
     "output_type": "display_data"
    }
   ],
   "source": [
    "#Using Elbow method to determine the value of K.\n",
    "from sklearn.cluster import KMeans\n",
    "wcss=[]\n",
    "X= df_approved.iloc[:, [2,6]].values\n",
    "for i in range(1,11):\n",
    "    kmeans = KMeans(n_clusters= i, init='k-means++', random_state=0)\n",
    "    kmeans.fit(X)\n",
    "    wcss.append(kmeans.inertia_)\n",
    "#Visualizing the ELBOW method to get the optimal value of K \n",
    "plt.plot(range(1,11), wcss)\n",
    "plt.title('The Elbow Method')\n",
    "plt.xlabel('no of clusters')\n",
    "plt.ylabel('wcss')\n",
    "plt.show()"
   ]
  },
  {
   "cell_type": "markdown",
   "metadata": {},
   "source": [
    "From the graph, its observed that the suitable value for K is 4. Building the model for same."
   ]
  },
  {
   "cell_type": "code",
   "execution_count": 33,
   "metadata": {},
   "outputs": [],
   "source": [
    "#Model Build\n",
    "kmeansmodel = KMeans(n_clusters= 4, init='k-means++', random_state=0)\n",
    "y_kmeans= kmeansmodel.fit_predict(X)"
   ]
  },
  {
   "cell_type": "code",
   "execution_count": 34,
   "metadata": {
    "scrolled": true
   },
   "outputs": [
    {
     "data": {
      "image/png": "[encoded data removed]",
      "text/plain": [
       "<Figure size 432x288 with 1 Axes>"
      ]
     },
     "metadata": {
      "needs_background": "light"
     },
     "output_type": "display_data"
    }
   ],
   "source": [
    "#Visualizing all the clusters \n",
    "\n",
    "plt.scatter(X[y_kmeans == 0, 0], X[y_kmeans == 0, 1], s = 100, c = 'red', label = 'Cluster 1')\n",
    "plt.scatter(X[y_kmeans == 1, 0], X[y_kmeans == 1, 1], s = 100, c = 'blue', label = 'Cluster 2')\n",
    "plt.scatter(X[y_kmeans == 2, 0], X[y_kmeans == 2, 1], s = 100, c = 'green', label = 'Cluster 3')\n",
    "plt.scatter(X[y_kmeans == 3, 0], X[y_kmeans == 3, 1], s = 100, c = 'cyan', label = 'Cluster 4')\n",
    "plt.title('Clusters of customers')\n",
    "plt.xlabel('loan amount (£)')\n",
    "plt.ylabel('body convertible (1-100)')\n",
    "plt.legend()\n",
    "plt.show()"
   ]
  },
  {
   "cell_type": "markdown",
   "metadata": {},
   "source": [
    "Among all the clusters, it is seen that the customers in cluster 3 are approved more when the loan \n",
    "amount is greater than £17,000. "
   ]
  },
  {
   "cell_type": "code",
   "execution_count": 35,
   "metadata": {},
   "outputs": [
    {
     "name": "stdout",
     "output_type": "stream",
     "text": [
      "Total number of customers who applied for loanamount >= 17000 : 2102\n",
      "Total number of customers who got loan sanctioned for loanamount >= 17000 : 1460\n",
      "Total number of loan sanctioned customers who applied for :\n",
      "Saloon Car : 0\n",
      "SUV Car : 385\n",
      "Convertible Car : 1075\n",
      "Percentage of loan approvals for convertible car type : 73.63%\n"
     ]
    }
   ],
   "source": [
    "total_cust_greater_17k = df.query('loanamount >= 17000').count()[1]\n",
    "total_apr_cust_greater_17k = df_approved.query('loanamount >=17000').count()[1]\n",
    "\n",
    "num_cust_body_conv = df_approved.query('loanamount >= 17000 and body_Convertible == 1').count()[1]\n",
    "num_cust_body_saloon = df_approved.query('loanamount >= 17000 and body_Saloon == 1').count()[1]\n",
    "num_cust_body_suv = df_approved.query('loanamount >= 17000 and body_SUV == 1').count()[1]\n",
    "\n",
    "percent_val = (num_cust_body_conv/total_apr_cust_greater_17k) * 100\n",
    "\n",
    "print('Total number of customers who applied for loanamount >= 17000 : {}'.format(total_cust_greater_17k))\n",
    "print('Total number of customers who got loan sanctioned for loanamount >= 17000 : {}'.format(total_apr_cust_greater_17k))\n",
    "\n",
    "print('Total number of loan sanctioned customers who applied for :\\nSaloon Car : {}'.format(num_cust_body_saloon))\n",
    "print('SUV Car : {}'.format(num_cust_body_suv))\n",
    "print('Convertible Car : {}'.format(num_cust_body_conv))\n",
    "\n",
    "print('Percentage of loan approvals for convertible car type : {}%'.format(round(percent_val,2)))"
   ]
  },
  {
   "cell_type": "markdown",
   "metadata": {},
   "source": [
    "**Observation** : Based on Customer Segmentation results, among the customers, who applied for **loan amount greater than £17000**, **73.63%** of the people who got the loan approved opted for **Convertible car type**.\n",
    "\n",
    "**Marketing Strategy** : Whenever a customer submits form with loan amount >= £17000, there is high probability that he may end up buying Convertible type car, so show him/her ads related to those type of cars."
   ]
  },
  {
   "cell_type": "markdown",
   "metadata": {},
   "source": [
    "# Summary of Strategies Proposed\n",
    "1. For **paid adverstising** and **print media advertising**, it is recommended to invest **more** in **urban areas**. That is, setting up digital banners, distribution of pamphlets, coupons etc can be carried out in urban areas to attract more customers.\n",
    "2. The **content** for Digital **Marketing**, Internet Marketing and Social Media Marketing can be chosen such that it suits and **attracts** the people in **age-group** of **36-65 years**.\n",
    "3. Whenever a customer submits form with **loan amount >= £17000**, there is high probability that he may end up buying Convertible type car, so show him/her **ads related** to **Convertible type** of cars."
   ]
  }
 ],
 "metadata": {
  "kernelspec": {
   "display_name": "Python 3",
   "language": "python",
   "name": "python3"
  },
  "language_info": {
   "codemirror_mode": {
    "name": "ipython",
    "version": 3
   },
   "file_extension": ".py",
   "mimetype": "text/x-python",
   "name": "python",
   "nbconvert_exporter": "python",
   "pygments_lexer": "ipython3",
   "version": "3.7.3"
  }
 },
 "nbformat": 4,
 "nbformat_minor": 2
}
